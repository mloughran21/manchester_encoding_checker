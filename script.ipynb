{
 "cells": [
  {
   "cell_type": "code",
   "execution_count": null,
   "metadata": {},
   "outputs": [],
   "source": [
    "import matplotlib.pyplot as plt\n",
    "import numpy as np"
   ]
  },
  {
   "cell_type": "code",
   "execution_count": null,
   "metadata": {},
   "outputs": [],
   "source": [
    "# Define the bitstream and parameters\n",
    "bitstream = '0001110101'\n",
    "bit_duration_seconds = 1  # Duration of each bit in seconds\n",
    "samples_per_bit = 100     # Number of samples per bit for smooth plotting\n",
    "\n",
    "# Total number of samples\n",
    "total_samples = samples_per_bit * len(bitstream)\n",
    "\n",
    "# Time vector in seconds\n",
    "t_seconds = np.linspace(0, len(bitstream) * bit_duration_seconds, total_samples)\n",
    "\n",
    "# Differential Manchester encoding logic\n",
    "signal = []\n",
    "current_level = 0  # Start with low state\n",
    "\n",
    "for bit in bitstream:\n",
    "    bit = int(bit)\n",
    "    \n",
    "    # First half of bit period\n",
    "    if bit == 0:\n",
    "        current_level = 1 - current_level  # Transition at beginning for 0\n",
    "    first_half = [current_level] * (samples_per_bit // 2)\n",
    "\n",
    "    # Mid-bit transition (always)\n",
    "    current_level = 1 - current_level\n",
    "    second_half = [current_level] * (samples_per_bit // 2)\n",
    "\n",
    "    signal.extend(first_half + second_half)\n",
    "\n",
    "# Convert signal list to numpy array\n",
    "signal = np.array(signal)"
   ]
  },
  {
   "cell_type": "code",
   "execution_count": null,
   "metadata": {},
   "outputs": [],
   "source": [
    "# Plotting\n",
    "plt.figure(figsize=(12, 3))\n",
    "plt.plot(t_seconds, signal, drawstyle='steps-pre')\n",
    "plt.title(\"Differential Manchester Encoding: 0001110101\")\n",
    "plt.xlabel(\"Time (seconds)\")\n",
    "plt.ylabel(\"Signal Level\")\n",
    "plt.yticks([0, 1], ['Low', 'High'])\n",
    "plt.ylim(-0.5, 1.5)\n",
    "plt.grid(True)\n",
    "\n",
    "# Add bit boundaries\n",
    "for i in range(len(bitstream) + 1):\n",
    "    plt.axvline(i * bit_duration_seconds, color='gray', linestyle='--', linewidth=0.5)\n",
    "\n",
    "plt.tight_layout()\n",
    "plt.show()"
   ]
  }
 ],
 "metadata": {
  "kernelspec": {
   "display_name": "base",
   "language": "python",
   "name": "python3"
  },
  "language_info": {
   "name": "python",
   "version": "3.9.13"
  }
 },
 "nbformat": 4,
 "nbformat_minor": 2
}
